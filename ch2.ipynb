{
 "cells": [
  {
   "cell_type": "markdown",
   "metadata": {},
   "source": [
    "## String Manipulation & Methods "
   ]
  },
  {
   "cell_type": "markdown",
   "metadata": {},
   "source": [
    "#### we can manipulate the string with several ways which are:\n",
    "- _Using format Specifiers_\n",
    "- _Using f-string_\n",
    "- _Using format() method_\n",
    "- _Using format() index  and substitute method_\n",
    "- _Using string Concatination_\n"
   ]
  },
  {
   "cell_type": "code",
   "execution_count": 4,
   "metadata": {},
   "outputs": [
    {
     "name": "stdout",
     "output_type": "stream",
     "text": [
      "PIAIC Student Card\n",
      "Student Name:\n",
      "Father Name:\n",
      "Age:\n",
      "Quarter:\n",
      "Location:\n"
     ]
    }
   ],
   "source": [
    "student = \"PIAIC Student Card\\nStudent Name:\\nFather Name:\\nAge:\\nQuarter:\\nLocation:\"\n",
    "print(student)\n",
    "# display(student)"
   ]
  },
  {
   "cell_type": "markdown",
   "metadata": {},
   "source": [
    "#### Using Format-Specifers"
   ]
  },
  {
   "cell_type": "code",
   "execution_count": 11,
   "metadata": {},
   "outputs": [
    {
     "name": "stdout",
     "output_type": "stream",
     "text": [
      "PIAIC Student Card\n",
      "Student Name: Muhammad Najam\n",
      "Father Name: Abdul Ghafoor Mughal\n",
      "Age: 35\n",
      "Quarter: Q3\n",
      "Location: Rawalpindi\n",
      "\n"
     ]
    }
   ],
   "source": [
    "student = \"\"\"PIAIC Student Card\n",
    "Student Name: %s\n",
    "Father Name: %s\n",
    "Age: %d\n",
    "Quarter: %s\n",
    "Location: %s\n",
    "\"\"\"\n",
    "student = student % (\"Muhammad Najam\", \"Abdul Ghafoor Mughal\", 35, \"Q3\", \"Rawalpindi\")\n",
    "print(student)"
   ]
  },
  {
   "cell_type": "markdown",
   "metadata": {},
   "source": [
    "#### Using f-string"
   ]
  },
  {
   "cell_type": "code",
   "execution_count": 12,
   "metadata": {},
   "outputs": [
    {
     "name": "stdout",
     "output_type": "stream",
     "text": [
      "PIAIC Student Card\n",
      "Student Name: Muhammad Najam\n",
      "Father Name: Abdul Ghafoor Mughal\n",
      "Age: 35\n",
      "Quarter: Q3\n",
      "Location: Rawalpindi\n",
      "\n"
     ]
    }
   ],
   "source": [
    "student = f\"\"\"PIAIC Student Card\n",
    "Student Name: {\"Muhammad Najam\"}\n",
    "Father Name: {\"Abdul Ghafoor Mughal\"}\n",
    "Age: {35}\n",
    "Quarter: {\"Q3\"}\n",
    "Location: {\"Rawalpindi\"}\n",
    "\"\"\"\n",
    "print(student)"
   ]
  },
  {
   "cell_type": "markdown",
   "metadata": {},
   "source": [
    "#### Using the format() method"
   ]
  },
  {
   "cell_type": "code",
   "execution_count": 13,
   "metadata": {},
   "outputs": [
    {
     "name": "stdout",
     "output_type": "stream",
     "text": [
      "PIAIC Student Card\n",
      "Student Name: Muhammad Najam\n",
      "Father Name: Abdul Ghafoor Mughal\n",
      "Age: 35\n",
      "Quarter: Q3\n",
      "Location: Rawalpindi\n",
      "\n"
     ]
    }
   ],
   "source": [
    "student = \"\"\"PIAIC Student Card\n",
    "Student Name: {}\n",
    "Father Name: {}\n",
    "Age: {}\n",
    "Quarter: {}\n",
    "Location: {}\n",
    "\"\"\"\n",
    "student = student.format(\"Muhammad Najam\", \"Abdul Ghafoor Mughal\", 35, \"Q3\", \"Rawalpindi\")\n",
    "print(student)"
   ]
  },
  {
   "cell_type": "markdown",
   "metadata": {},
   "source": [
    "#### Using format() index method"
   ]
  },
  {
   "cell_type": "code",
   "execution_count": 15,
   "metadata": {},
   "outputs": [
    {
     "name": "stdout",
     "output_type": "stream",
     "text": [
      "PIAIC Student Card\n",
      "Student Name: Muhammad Najam\n",
      "Father Name: Abdul Ghafoor Mughal\n",
      "Age: 35\n",
      "Quarter: Q3\n",
      "Location: Rawalpindi\n",
      "\n"
     ]
    }
   ],
   "source": [
    "student = \"\"\"PIAIC Student Card\n",
    "Student Name: {0}\n",
    "Father Name: {1}\n",
    "Age: {2}\n",
    "Quarter: {3}\n",
    "Location: {4}\n",
    "\"\"\"\n",
    "    #                           0                   1               2    3         4   \n",
    "student = student.format(\"Muhammad Najam\", \"Abdul Ghafoor Mughal\", 35, \"Q3\", \"Rawalpindi\")\n",
    "print(student)"
   ]
  },
  {
   "cell_type": "markdown",
   "metadata": {},
   "source": [
    "#### Using format() substitution method"
   ]
  },
  {
   "cell_type": "code",
   "execution_count": 17,
   "metadata": {},
   "outputs": [
    {
     "name": "stdout",
     "output_type": "stream",
     "text": [
      "PIAIC Student Card\n",
      "Student Name: Muhammad Najam\n",
      "Father Name: Abdul Ghafoor Mughal\n",
      "Age: 35\n",
      "Quarter: Q3\n",
      "Location: Rawalpindi\n",
      "\n"
     ]
    }
   ],
   "source": [
    "student = \"\"\"PIAIC Student Card\n",
    "Student Name: {a}\n",
    "Father Name: {b}\n",
    "Age: {c}\n",
    "Quarter: {d}\n",
    "Location: {e}\n",
    "\"\"\"\n",
    "    #                           0                   1               2    3         4   \n",
    "student = student.format(a=\"Muhammad Najam\", b=\"Abdul Ghafoor Mughal\", c=35, d=\"Q3\", e=\"Rawalpindi\")\n",
    "print(student)"
   ]
  },
  {
   "cell_type": "markdown",
   "metadata": {},
   "source": [
    "#### Using string concatination"
   ]
  },
  {
   "cell_type": "code",
   "execution_count": 20,
   "metadata": {},
   "outputs": [
    {
     "name": "stdout",
     "output_type": "stream",
     "text": [
      "PIAIC Student Card\n",
      "Student Name:\n",
      "Father Name:\n",
      "Age:\n",
      "Quarter:\n",
      "Location:\n"
     ]
    }
   ],
   "source": [
    "student = \"PIAIC Student Card\" + \"\\nStudent Name:\" + \"\\nFather Name:\" + \"\\nAge:\" + \"\\nQuarter:\" + \"\\nLocation:\"\n",
    "print(student)"
   ]
  },
  {
   "cell_type": "markdown",
   "metadata": {},
   "source": [
    "#### String Methods"
   ]
  },
  {
   "cell_type": "code",
   "execution_count": 23,
   "metadata": {},
   "outputs": [
    {
     "name": "stdout",
     "output_type": "stream",
     "text": [
      "name: muhammad najam ul islam\\come    \n",
      "    name: muhammad najam ul islam\\come\n",
      "name: muhammad najam ul islam\\come\n",
      "    Name: Muhammad Najam Ul Islam\\Come    \n",
      "    name: muhammad najam ul islam\\come    \n",
      "    name: muhammad najam ul islam\\come    \n",
      "    NAME: MUHAMMAD NAJAM UL ISLAM\\COME    \n",
      "    name: muhammad najam ul islam\\come    \n",
      "False\n",
      "False\n",
      "    name: muhammad najam ul islam\\come    \n",
      "    name: muhammad najam ul islam\\come    \n"
     ]
    }
   ],
   "source": [
    "name = \"    name: muhammad najam ul islam\\\\come    \"\n",
    "print(name.lstrip())\n",
    "print(name.rstrip())\n",
    "print(name.strip())\n",
    "print(name.title())\n",
    "print(name.capitalize())\n",
    "print(name.lower())\n",
    "print(name.upper())\n",
    "print(name.casefold())\n",
    "print(name.endswith(\"m\"))\n",
    "print(name.startswith(\"n\"))\n",
    "print(name.removeprefix('name:'))\n",
    "print(name.removesuffix('\\\\come'))\n"
   ]
  },
  {
   "cell_type": "code",
   "execution_count": null,
   "metadata": {},
   "outputs": [],
   "source": []
  }
 ],
 "metadata": {
  "kernelspec": {
   "display_name": "py12",
   "language": "python",
   "name": "python3"
  },
  "language_info": {
   "codemirror_mode": {
    "name": "ipython",
    "version": 3
   },
   "file_extension": ".py",
   "mimetype": "text/x-python",
   "name": "python",
   "nbconvert_exporter": "python",
   "pygments_lexer": "ipython3",
   "version": "3.12.0"
  }
 },
 "nbformat": 4,
 "nbformat_minor": 2
}
